{
 "cells": [
  {
   "cell_type": "markdown",
   "id": "f98e6d79",
   "metadata": {},
   "source": [
    "## json file"
   ]
  },
  {
   "cell_type": "code",
   "execution_count": 8,
   "id": "e2caba52",
   "metadata": {},
   "outputs": [],
   "source": [
    "data={'name':'minhaj',\n",
    "       'email id':'minhajmehaboob3@gmail.com',\n",
    "       'phone number':6516678955,}"
   ]
  },
  {
   "cell_type": "code",
   "execution_count": 9,
   "id": "f0fdea3f",
   "metadata": {},
   "outputs": [],
   "source": [
    "import json"
   ]
  },
  {
   "cell_type": "code",
   "execution_count": 10,
   "id": "239cb75b",
   "metadata": {},
   "outputs": [],
   "source": [
    "with open('test1.json','w') as f:\n",
    "    json.dump(data,f)"
   ]
  },
  {
   "cell_type": "code",
   "execution_count": 11,
   "id": "f47f95dc",
   "metadata": {},
   "outputs": [],
   "source": [
    "with open('test1.json','r') as f:\n",
    "    data1=json.load(f)"
   ]
  },
  {
   "cell_type": "code",
   "execution_count": 12,
   "id": "f0cb6ec5",
   "metadata": {},
   "outputs": [
    {
     "data": {
      "text/plain": [
       "{'name': 'minhaj',\n",
       " 'email id': 'minhajmehaboob3@gmail.com',\n",
       " 'phone number': 6516678955}"
      ]
     },
     "execution_count": 12,
     "metadata": {},
     "output_type": "execute_result"
    }
   ],
   "source": [
    "data1"
   ]
  },
  {
   "cell_type": "markdown",
   "id": "11640296",
   "metadata": {},
   "source": [
    "## csv file"
   ]
  },
  {
   "cell_type": "code",
   "execution_count": 18,
   "id": "9c409141",
   "metadata": {},
   "outputs": [],
   "source": [
    "data=[['name','email id','phone number'],\n",
    "      ['minhaj','minhajmehaboob3@gmail.com',628463232],\n",
    "      ['abc','abc@gmail.com',876555151]\n",
    "     ]"
   ]
  },
  {
   "cell_type": "code",
   "execution_count": 19,
   "id": "25aab7e8",
   "metadata": {},
   "outputs": [],
   "source": [
    "import csv"
   ]
  },
  {
   "cell_type": "code",
   "execution_count": 20,
   "id": "8b1fbb6f",
   "metadata": {},
   "outputs": [],
   "source": [
    "with open('test2.csv','w') as f:\n",
    "    w=csv.writer(f)\n",
    "    for i in data:\n",
    "        w.writerow(i)"
   ]
  },
  {
   "cell_type": "code",
   "execution_count": 21,
   "id": "f9e6634c",
   "metadata": {},
   "outputs": [
    {
     "name": "stdout",
     "output_type": "stream",
     "text": [
      "['name', 'email id', 'phone number']\n",
      "[]\n",
      "['minhaj', 'minhajmehaboob3@gmail.com', '628463232']\n",
      "[]\n",
      "['abc', 'abc@gmail.com', '876555151']\n",
      "[]\n"
     ]
    }
   ],
   "source": [
    "with open('test2.csv','r')as f:\n",
    "    read=csv.reader(f)\n",
    "    for i in read:\n",
    "        print(i)"
   ]
  },
  {
   "cell_type": "markdown",
   "id": "cab73bce",
   "metadata": {},
   "source": [
    "## bin file"
   ]
  },
  {
   "cell_type": "code",
   "execution_count": 23,
   "id": "7edcf59a",
   "metadata": {},
   "outputs": [],
   "source": [
    "with open('test3.bin','wb') as f:\n",
    "    f.write(b\"\\x01\\x02\\x03\")"
   ]
  },
  {
   "cell_type": "code",
   "execution_count": 26,
   "id": "7126e90a",
   "metadata": {},
   "outputs": [
    {
     "name": "stdout",
     "output_type": "stream",
     "text": [
      "b'\\x01\\x02\\x03'\n"
     ]
    }
   ],
   "source": [
    "with open('test3.bin','rb')as f:\n",
    "    print(f.read())"
   ]
  },
  {
   "cell_type": "code",
   "execution_count": null,
   "id": "8eed84bc",
   "metadata": {},
   "outputs": [],
   "source": []
  }
 ],
 "metadata": {
  "kernelspec": {
   "display_name": "Python 3 (ipykernel)",
   "language": "python",
   "name": "python3"
  },
  "language_info": {
   "codemirror_mode": {
    "name": "ipython",
    "version": 3
   },
   "file_extension": ".py",
   "mimetype": "text/x-python",
   "name": "python",
   "nbconvert_exporter": "python",
   "pygments_lexer": "ipython3",
   "version": "3.9.13"
  }
 },
 "nbformat": 4,
 "nbformat_minor": 5
}
