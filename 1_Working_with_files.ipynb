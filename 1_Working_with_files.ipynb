{
 "cells": [
  {
   "cell_type": "code",
   "execution_count": 1,
   "id": "4548db49",
   "metadata": {},
   "outputs": [],
   "source": [
    "f=open('file1.txt','w')"
   ]
  },
  {
   "cell_type": "code",
   "execution_count": null,
   "id": "952db2b1",
   "metadata": {},
   "outputs": [],
   "source": [
    "#path of file\n",
    "pwd"
   ]
  },
  {
   "cell_type": "code",
   "execution_count": 3,
   "id": "db00efb2",
   "metadata": {},
   "outputs": [
    {
     "data": {
      "text/plain": [
       "324"
      ]
     },
     "execution_count": 3,
     "metadata": {},
     "output_type": "execute_result"
    }
   ],
   "source": [
    "f.write('Simply put, loremipsum is dummy text that occupies the space where the real content should be. If you are designing an online business such as a blog and you do not have content already, you use a lorem ipsum generator to create placeholder or dummy text to show you how the business will look once you add the real content.')"
   ]
  },
  {
   "cell_type": "code",
   "execution_count": 4,
   "id": "841577d6",
   "metadata": {},
   "outputs": [],
   "source": [
    "f.close()"
   ]
  },
  {
   "cell_type": "code",
   "execution_count": 5,
   "id": "e81b712c",
   "metadata": {},
   "outputs": [],
   "source": [
    "f=open('file1.txt','r')"
   ]
  },
  {
   "cell_type": "code",
   "execution_count": 6,
   "id": "a87c8e22",
   "metadata": {},
   "outputs": [
    {
     "data": {
      "text/plain": [
       "'Simply put, loremipsum is dummy text that occupies the space where the real content should be. If you are designing an online business such as a blog and you do not have content already, you use a lorem ipsum generator to create placeholder or dummy text to show you how the business will look once you add the real content.'"
      ]
     },
     "execution_count": 6,
     "metadata": {},
     "output_type": "execute_result"
    }
   ],
   "source": [
    "f.read()"
   ]
  },
  {
   "cell_type": "code",
   "execution_count": 7,
   "id": "56c57785",
   "metadata": {},
   "outputs": [
    {
     "data": {
      "text/plain": [
       "''"
      ]
     },
     "execution_count": 7,
     "metadata": {},
     "output_type": "execute_result"
    }
   ],
   "source": [
    "f.read()"
   ]
  },
  {
   "cell_type": "code",
   "execution_count": 8,
   "id": "51854f52",
   "metadata": {},
   "outputs": [
    {
     "data": {
      "text/plain": [
       "0"
      ]
     },
     "execution_count": 8,
     "metadata": {},
     "output_type": "execute_result"
    }
   ],
   "source": [
    "f.seek(0)"
   ]
  },
  {
   "cell_type": "code",
   "execution_count": 9,
   "id": "955d8477",
   "metadata": {},
   "outputs": [
    {
     "data": {
      "text/plain": [
       "'Simply put, loremipsum is dummy text that occupies the space where the real content should be. If you are designing an online business such as a blog and you do not have content already, you use a lorem ipsum generator to create placeholder or dummy text to show you how the business will look once you add the real content.'"
      ]
     },
     "execution_count": 9,
     "metadata": {},
     "output_type": "execute_result"
    }
   ],
   "source": [
    "f.read()"
   ]
  },
  {
   "cell_type": "code",
   "execution_count": 10,
   "id": "20fb8476",
   "metadata": {},
   "outputs": [
    {
     "data": {
      "text/plain": [
       "40"
      ]
     },
     "execution_count": 10,
     "metadata": {},
     "output_type": "execute_result"
    }
   ],
   "source": [
    "f.seek(40)"
   ]
  },
  {
   "cell_type": "code",
   "execution_count": 11,
   "id": "67158f5f",
   "metadata": {},
   "outputs": [
    {
     "data": {
      "text/plain": [
       "'t occupies the space where the real content should be. If you are designing an online business such as a blog and you do not have content already, you use a lorem ipsum generator to create placeholder or dummy text to show you how the business will look once you add the real content.'"
      ]
     },
     "execution_count": 11,
     "metadata": {},
     "output_type": "execute_result"
    }
   ],
   "source": [
    "f.read()"
   ]
  },
  {
   "cell_type": "code",
   "execution_count": 13,
   "id": "c6f559f5",
   "metadata": {},
   "outputs": [],
   "source": [
    "f=open('file1.txt','a')"
   ]
  },
  {
   "cell_type": "code",
   "execution_count": 14,
   "id": "1f8fd82a",
   "metadata": {},
   "outputs": [
    {
     "data": {
      "text/plain": [
       "31"
      ]
     },
     "execution_count": 14,
     "metadata": {},
     "output_type": "execute_result"
    }
   ],
   "source": [
    "f.write('6+5+65+6565+65656+5+65+65+65+65')"
   ]
  },
  {
   "cell_type": "code",
   "execution_count": 15,
   "id": "00d9c292",
   "metadata": {},
   "outputs": [],
   "source": [
    "f.close()"
   ]
  },
  {
   "cell_type": "code",
   "execution_count": 16,
   "id": "423f98f6",
   "metadata": {},
   "outputs": [],
   "source": [
    "f=open('file1.txt','r')"
   ]
  },
  {
   "cell_type": "code",
   "execution_count": 17,
   "id": "22155c33",
   "metadata": {},
   "outputs": [
    {
     "data": {
      "text/plain": [
       "'Simply put, loremipsum is dummy text that occupies the space where the real content should be. If you are designing an online business such as a blog and you do not have content already, you use a lorem ipsum generator to create placeholder or dummy text to show you how the business will look once you add the real content.6+5+65+6565+65656+5+65+65+65+65'"
      ]
     },
     "execution_count": 17,
     "metadata": {},
     "output_type": "execute_result"
    }
   ],
   "source": [
    "f.read()"
   ]
  },
  {
   "cell_type": "code",
   "execution_count": 19,
   "id": "b14eb519",
   "metadata": {},
   "outputs": [
    {
     "name": "stdout",
     "output_type": "stream",
     "text": [
      "Simply put, loremipsum is dummy text that occupies the space where the real content should be. If you are designing an online business such as a blog and you do not have content already, you use a lorem ipsum generator to create placeholder or dummy text to show you how the business will look once you add the real content.6+5+65+6565+65656+5+65+65+65+65\n"
     ]
    }
   ],
   "source": [
    "#reading file using for loop\n",
    "f=open('file1.txt','r')\n",
    "for i in f:\n",
    "    print(i)"
   ]
  },
  {
   "cell_type": "code",
   "execution_count": 21,
   "id": "83297f33",
   "metadata": {},
   "outputs": [
    {
     "data": {
      "text/plain": [
       "355"
      ]
     },
     "execution_count": 21,
     "metadata": {},
     "output_type": "execute_result"
    }
   ],
   "source": [
    "#to get file size\n",
    "import os\n",
    "os.path.getsize('file1.txt')"
   ]
  },
  {
   "cell_type": "code",
   "execution_count": 22,
   "id": "916f291d",
   "metadata": {},
   "outputs": [
    {
     "data": {
      "text/plain": [
       "'copy_file1.txt'"
      ]
     },
     "execution_count": 22,
     "metadata": {},
     "output_type": "execute_result"
    }
   ],
   "source": [
    "#creating copy of a file\n",
    "import shutil\n",
    "shutil.copy('file1.txt','copy_file1.txt')"
   ]
  },
  {
   "cell_type": "code",
   "execution_count": 23,
   "id": "d116a82b",
   "metadata": {},
   "outputs": [],
   "source": [
    "#deleting a file\n",
    "os.remove('copy_file1.txt')"
   ]
  },
  {
   "cell_type": "code",
   "execution_count": 26,
   "id": "5b559f2d",
   "metadata": {},
   "outputs": [
    {
     "name": "stdout",
     "output_type": "stream",
     "text": [
      "Simply put, loremipsum is dummy text that occupies the space where the real content should be. If you are designing an online business such as a blog and you do not have content already, you use a lorem ipsum generator to create placeholder or dummy text to show you how the business will look once you add the real content.6+5+65+6565+65656+5+65+65+65+65\n"
     ]
    }
   ],
   "source": [
    "#another method to open up a file\n",
    "with open('file1.txt','r') as f:\n",
    "    print(f.read())"
   ]
  },
  {
   "cell_type": "code",
   "execution_count": 27,
   "id": "83991d58",
   "metadata": {},
   "outputs": [],
   "source": [
    "with open('file2.txt','w') as f:\n",
    "    f.write('Lorem ipsum is common with typesetting and printing businesses. The text did not start with the age of digital businesses as it has been used since 1500s or even earlier. The first use must have been in the creation of a specimen book. The creators wanted to know how the book will look with text on and that was when lorem ipsum started finding its place in the printing, typesetting, and digital world.')"
   ]
  },
  {
   "cell_type": "code",
   "execution_count": 28,
   "id": "5ee37cda",
   "metadata": {},
   "outputs": [
    {
     "name": "stdout",
     "output_type": "stream",
     "text": [
      "Lorem ipsum is common with typesetting and printing businesses. The text did not start with the age of digital businesses as it has been used since 1500s or even earlier. The first use must have been in the creation of a specimen book. The creators wanted to know how the book will look with text on and that was when lorem ipsum started finding its place in the printing, typesetting, and digital world.\n"
     ]
    }
   ],
   "source": [
    "with open('file2.txt','r') as f:\n",
    "    print(f.read())"
   ]
  },
  {
   "cell_type": "code",
   "execution_count": 29,
   "id": "b42c37cd",
   "metadata": {},
   "outputs": [],
   "source": [
    "#renaming file\n",
    "os.rename('file2.txt','new_file2.txt')"
   ]
  },
  {
   "cell_type": "code",
   "execution_count": null,
   "id": "82f218e9",
   "metadata": {},
   "outputs": [],
   "source": []
  }
 ],
 "metadata": {
  "kernelspec": {
   "display_name": "Python 3 (ipykernel)",
   "language": "python",
   "name": "python3"
  },
  "language_info": {
   "codemirror_mode": {
    "name": "ipython",
    "version": 3
   },
   "file_extension": ".py",
   "mimetype": "text/x-python",
   "name": "python",
   "nbconvert_exporter": "python",
   "pygments_lexer": "ipython3",
   "version": "3.9.13"
  }
 },
 "nbformat": 4,
 "nbformat_minor": 5
}
