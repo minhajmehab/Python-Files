{
 "cells": [
  {
   "cell_type": "code",
   "execution_count": 1,
   "id": "e49c6c56",
   "metadata": {},
   "outputs": [
    {
     "name": "stdout",
     "output_type": "stream",
     "text": [
      "this is my statement\n"
     ]
    }
   ],
   "source": [
    "print('this is my statement')"
   ]
  },
  {
   "cell_type": "code",
   "execution_count": 1,
   "id": "366dc082",
   "metadata": {},
   "outputs": [],
   "source": [
    "import logging"
   ]
  },
  {
   "cell_type": "markdown",
   "id": "66fa4171",
   "metadata": {},
   "source": [
    "#### Hierarchy of logging\n",
    "#### 1.NOSET\n",
    "#### 2.DEBUG\n",
    "#### 3.INFO\n",
    "#### 4.WARNING\n",
    "#### 5.ERROR \n",
    "#### 6.CRITICAL\n"
   ]
  },
  {
   "cell_type": "code",
   "execution_count": 3,
   "id": "52287db6",
   "metadata": {},
   "outputs": [],
   "source": [
    "logging.basicConfig(filename='test1.log',level=logging.INFO)"
   ]
  },
  {
   "cell_type": "code",
   "execution_count": 4,
   "id": "0905e860",
   "metadata": {},
   "outputs": [],
   "source": [
    "logging.info('this is my line of execution')"
   ]
  },
  {
   "cell_type": "code",
   "execution_count": 5,
   "id": "3bd4cdd5",
   "metadata": {},
   "outputs": [],
   "source": [
    "logging.error('this is my error')"
   ]
  },
  {
   "cell_type": "code",
   "execution_count": 6,
   "id": "9f9fdec6",
   "metadata": {},
   "outputs": [],
   "source": [
    "logging.critical('this is my critical')"
   ]
  },
  {
   "cell_type": "code",
   "execution_count": 7,
   "id": "db8c6f34",
   "metadata": {},
   "outputs": [],
   "source": [
    "logging.warning('this is the warnings')"
   ]
  },
  {
   "cell_type": "code",
   "execution_count": 8,
   "id": "836eb5bd",
   "metadata": {},
   "outputs": [],
   "source": [
    "## here debug will not get executed because DEBUG is above the level INFO(logging.INFO).\n",
    "## to get executed use logging.DEBUG\n",
    "## Logging follows the hierarchy\n",
    "\n",
    "logging.debug('this the debug')"
   ]
  },
  {
   "cell_type": "code",
   "execution_count": 13,
   "id": "dcaaab6c",
   "metadata": {},
   "outputs": [],
   "source": [
    "## for stopping logging\n",
    "logging.shutdown()"
   ]
  },
  {
   "cell_type": "code",
   "execution_count": 12,
   "id": "aeb9083e",
   "metadata": {},
   "outputs": [],
   "source": [
    "logging.basicConfig(filename = \"test2.log\" , level = logging.DEBUG ,format = '%(asctime)s %(message)s'  )"
   ]
  },
  {
   "cell_type": "code",
   "execution_count": 13,
   "id": "24e53ab8",
   "metadata": {},
   "outputs": [],
   "source": [
    "logging.info('this is info')"
   ]
  },
  {
   "cell_type": "code",
   "execution_count": 14,
   "id": "577a87f6",
   "metadata": {},
   "outputs": [],
   "source": [
    "logging.debug('this is my debug')"
   ]
  },
  {
   "cell_type": "code",
   "execution_count": 15,
   "id": "3fe0afcf",
   "metadata": {},
   "outputs": [],
   "source": [
    "logging.warning('this is the warning')"
   ]
  },
  {
   "cell_type": "code",
   "execution_count": 16,
   "id": "d1a96884",
   "metadata": {},
   "outputs": [],
   "source": [
    "logging.shutdown()"
   ]
  },
  {
   "cell_type": "code",
   "execution_count": 2,
   "id": "57a71efe",
   "metadata": {},
   "outputs": [],
   "source": [
    "logging.basicConfig(filename = \"test3.log\" , level = logging.DEBUG ,format = '%(asctime)s %(name)s %(levelname)s %(message)s'  )"
   ]
  },
  {
   "cell_type": "code",
   "execution_count": 3,
   "id": "fd9abe8a",
   "metadata": {},
   "outputs": [],
   "source": [
    "logging.info('this is the info')"
   ]
  },
  {
   "cell_type": "code",
   "execution_count": null,
   "id": "08240d22",
   "metadata": {},
   "outputs": [],
   "source": []
  },
  {
   "cell_type": "code",
   "execution_count": null,
   "id": "a5bb092b",
   "metadata": {},
   "outputs": [],
   "source": []
  },
  {
   "cell_type": "code",
   "execution_count": 2,
   "id": "e1f1f8dd",
   "metadata": {},
   "outputs": [],
   "source": [
    "logging.basicConfig(filename = \"test4.log\" , level = logging.DEBUG ,format = '%(asctime)s %(name)s %(levelname)s %(message)s'  )"
   ]
  },
  {
   "cell_type": "code",
   "execution_count": 3,
   "id": "6a74ff3a",
   "metadata": {},
   "outputs": [],
   "source": [
    "lst=[1,2,3,4,[5,6,7],\"minhaj\",\"vm\"]"
   ]
  },
  {
   "cell_type": "code",
   "execution_count": 4,
   "id": "78a2d5c8",
   "metadata": {},
   "outputs": [],
   "source": [
    "lst_int=[]\n",
    "lst_str=[]"
   ]
  },
  {
   "cell_type": "code",
   "execution_count": 8,
   "id": "add71f27",
   "metadata": {},
   "outputs": [],
   "source": [
    "for i in lst:\n",
    "    logging.info('this is the list {}'.format(lst))\n",
    "    logging.info('this is the current value of i:{}'.format(i))\n",
    "    if type(i)==list:\n",
    "        for j in i:\n",
    "            logging.info('current of value of i is {i} and j is {j}'.format(i=i,j=j))\n",
    "            if type(j)==int:\n",
    "                lst_int.append(j)\n",
    "    elif type(i)==int:\n",
    "        lst_int.append(i)\n",
    "    else:\n",
    "        if type(i)==str:\n",
    "            lst_str.append(i)\n",
    "        "
   ]
  },
  {
   "cell_type": "code",
   "execution_count": 9,
   "id": "cb05ef78",
   "metadata": {},
   "outputs": [
    {
     "data": {
      "text/plain": [
       "[1, 2, 3, 4, 5, 6, 7]"
      ]
     },
     "execution_count": 9,
     "metadata": {},
     "output_type": "execute_result"
    }
   ],
   "source": [
    "lst_int"
   ]
  },
  {
   "cell_type": "code",
   "execution_count": 10,
   "id": "e10d7070",
   "metadata": {},
   "outputs": [
    {
     "data": {
      "text/plain": [
       "['minhaj', 'vm']"
      ]
     },
     "execution_count": 10,
     "metadata": {},
     "output_type": "execute_result"
    }
   ],
   "source": [
    "lst_str"
   ]
  },
  {
   "cell_type": "code",
   "execution_count": null,
   "id": "746873a2",
   "metadata": {},
   "outputs": [],
   "source": []
  }
 ],
 "metadata": {
  "kernelspec": {
   "display_name": "Python 3 (ipykernel)",
   "language": "python",
   "name": "python3"
  },
  "language_info": {
   "codemirror_mode": {
    "name": "ipython",
    "version": 3
   },
   "file_extension": ".py",
   "mimetype": "text/x-python",
   "name": "python",
   "nbconvert_exporter": "python",
   "pygments_lexer": "ipython3",
   "version": "3.9.13"
  }
 },
 "nbformat": 4,
 "nbformat_minor": 5
}
